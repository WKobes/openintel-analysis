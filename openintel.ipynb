{
 "cells": [
  {
   "cell_type": "markdown",
   "metadata": {
    "pycharm": {
     "name": "#%% md\n"
    }
   },
   "source": [
    "### Do necessary imports"
   ]
  },
  {
   "cell_type": "code",
   "execution_count": 1,
   "metadata": {
    "collapsed": false,
    "jupyter": {
     "outputs_hidden": false
    },
    "pycharm": {
     "name": "#%%\n"
    }
   },
   "outputs": [],
   "source": [
    "from pyspark.sql import DataFrame, Row, SparkSession\n",
    "from pyspark.sql.functions import substring, expr, explode, count, col, when\n",
    "import pandas as pd\n",
    "\n",
    "# Temporary imports to load avro files\n",
    "from os import listdir\n",
    "from os.path import isfile, join\n",
    "\n",
    "# Start spark session\n",
    "sqlc = SparkSession \\\n",
    "    .builder \\\n",
    "    .appName(\"Master Thesis Analysis\") \\\n",
    "    .config(\"spark.jars.packages\", \"org.apache.spark:spark-avro_2.12:3.3.0\") \\\n",
    "    .getOrCreate()\n",
    "\n",
    "# Constants\n",
    "FILE_PATH = \"openintel/\""
   ]
  },
  {
   "cell_type": "markdown",
   "metadata": {
    "pycharm": {
     "name": "#%% md\n"
    }
   },
   "source": [
    "### Load AVRO files DNS RR"
   ]
  },
  {
   "cell_type": "code",
   "execution_count": 3,
   "metadata": {
    "collapsed": false,
    "jupyter": {
     "outputs_hidden": false
    },
    "pycharm": {
     "name": "#%%\n"
    }
   },
   "outputs": [],
   "source": [
    "# TODO: connect to spark cluster, now manually load 1 avro folder for testing\n",
    "my_dnsrr_df = sqlc.read.format(\"avro\").load([join(FILE_PATH, f) for f in listdir(FILE_PATH) if isfile(join(FILE_PATH, f))])\n",
    "\n",
    "# Load the known domain names\n",
    "with open('CT-logs domeinen.txt', 'r') as f:\n",
    "    known_names = [line.strip() for line in f]\n",
    "\n",
    "with open('CT-logs domeinen.txt', 'r') as f:\n",
    "    known_names_with_dot = [line.strip() + '.' for line in f]\n",
    "\n",
    "# Transform known domain names to dataframes\n",
    "my_known_names_df = sqlc.createDataFrame(pd.DataFrame({\"domain\": known_names }))\n",
    "my_known_names_with_dot_df = sqlc.createDataFrame(pd.DataFrame({\"query_name\": known_names_with_dot }))\n",
    "\n",
    "# Load the Resource Records into dataframes\n",
    "# with open('CAA records.txt', 'r') as f:\n",
    "#    caa_known = [line.split()[-1] for line in f]\n",
    "#    caa_known_df = sqlc.createDataFrame(pd.DataFrame({\"caa_value\": caa_known }))\n",
    "\n",
    "with open('A IPv4 records.txt', 'r') as f:\n",
    "    ipv4_known = [line.strip() for line in f]\n",
    "    ipv4_known_df = sqlc.createDataFrame(pd.DataFrame({\"ip4_address\": ipv4_known }))\n",
    "    \n",
    "with open('MX records.txt', 'r') as f:\n",
    "    mx_known = [line.split()[-1] for line in f]\n",
    "    mx_known_df = sqlc.createDataFrame(pd.DataFrame({\"mx_address\": mx_known }))\n",
    "    \n",
    "with open('NS records.txt', 'r') as f:\n",
    "    ns_known = [line.strip() for line in f]    \n",
    "    ns_known_df = sqlc.createDataFrame(pd.DataFrame({\"ns_address\": ns_known }))"
   ]
  },
  {
   "cell_type": "markdown",
   "metadata": {
    "pycharm": {
     "name": "#%% md\n"
    }
   },
   "source": [
    "### OpenINTEL analysis"
   ]
  },
  {
   "cell_type": "code",
   "execution_count": 3,
   "metadata": {
    "collapsed": false,
    "jupyter": {
     "outputs_hidden": false
    },
    "pycharm": {
     "name": "#%%\n"
    }
   },
   "outputs": [],
   "source": [
    "# Select the data needed for every comparison\n",
    "# caa_data = my_dnsrr_df.where(my_dnsrr_df.response_type == \"CAA\").select('query_name', 'caa_value')\n",
    "ipv4_data = my_dnsrr_df.where(my_dnsrr_df.response_type == \"A\").select('query_name', 'ip4_address')\n",
    "mx_data = my_dnsrr_df.where(my_dnsrr_df.response_type == \"MX\").select('query_name', 'mx_address')\n",
    "ns_data = my_dnsrr_df.where(my_dnsrr_df.response_type == \"NS\").select('query_name', 'ns_address')\n",
    "\n",
    "# Obtain results per type\n",
    "# First join on recognized value. Select only query name and only distinct values\n",
    "# Then anti join with known names to find new domains\n",
    "# Finally remove the trailing dot, since we need PQDNs for CT analysis\n",
    "\n",
    "# CAA code: not used because of the large number of false positives (many websites have pkioverheid.nl as CAA record)\n",
    "# caa_result = caa_data.join(caa_known_df, caa_data.caa_value == caa_known_df.caa_value, 'inner').select('query_name').distinct()\n",
    "# caa_result = caa_result.join(my_known_names_with_dot_df, 'query_name', how='left_anti')\n",
    "# caa_result = caa_result.withColumn(\"domain\", expr(\"substring(query_name, 1, length(query_name)-1)\")).select(\"domain\")\n",
    "# caa_result.show(truncate=False)\n",
    "\n",
    "ipv4_result = ipv4_data.join(ipv4_known_df, ipv4_data.ip4_address == ipv4_known_df.ip4_address, 'inner').select('query_name').distinct()\n",
    "ipv4_result = ipv4_result.join(my_known_names_with_dot_df, 'query_name', how='left_anti')\n",
    "ipv4_result = ipv4_result.withColumn(\"domain\", expr(\"substring(query_name, 1, length(query_name)-1)\")).select(\"domain\")\n",
    "# ipv4_result.show(truncate=False)\n",
    "\n",
    "mx_result = mx_data.join(mx_known_df, mx_data.mx_address == mx_known_df.mx_address, 'inner').select('query_name').distinct()\n",
    "mx_result = mx_result.join(my_known_names_with_dot_df, 'query_name', how='left_anti')\n",
    "mx_result = mx_result.withColumn(\"domain\", expr(\"substring(query_name, 1, length(query_name)-1)\")).select(\"domain\")\n",
    "# mx_result.show(truncate=False)\n",
    "\n",
    "ns_result = ns_data.join(ns_known_df, ns_data.ns_address == ns_known_df.ns_address, 'inner').select('query_name').distinct()\n",
    "ns_result = ns_result.join(my_known_names_with_dot_df, 'query_name', how='left_anti')\n",
    "ns_result = ns_result.withColumn(\"domain\", expr(\"substring(query_name, 1, length(query_name)-1)\")).select(\"domain\")\n",
    "# ns_result.show(truncate=False)"
   ]
  },
  {
   "cell_type": "code",
   "execution_count": 4,
   "metadata": {
    "collapsed": false,
    "jupyter": {
     "outputs_hidden": false
    },
    "pycharm": {
     "name": "#%%\n"
    }
   },
   "outputs": [],
   "source": [
    "# Write intermediate results to CSV\n",
    "ipv4_result.toPandas().to_csv(\"ipv4-new.csv\", index=False)\n",
    "mx_result.toPandas().to_csv(\"mx-new.csv\", index=False)\n",
    "ns_result.toPandas().to_csv(\"ns-new.csv\", index=False)\n",
    "\n",
    "# Join results with known domains.\n",
    "# Currently excluding CAA, because it appeared to be used by non-government domains as well.\n",
    "my_known_names_df = my_known_names_df.union(ipv4_result)\n",
    "my_known_names_df = my_known_names_df.union(mx_result)\n",
    "my_known_names_df = my_known_names_df.union(ns_result)"
   ]
  },
  {
   "cell_type": "markdown",
   "metadata": {
    "pycharm": {
     "name": "#%% md\n"
    }
   },
   "source": [
    "### Load AVRO files CT"
   ]
  },
  {
   "cell_type": "code",
   "execution_count": 4,
   "metadata": {
    "collapsed": false,
    "jupyter": {
     "outputs_hidden": false
    },
    "pycharm": {
     "name": "#%%\n"
    }
   },
   "outputs": [],
   "source": [
    "# TODO: connect to spark cluster, now manually load 1 avro file for testing\n",
    "my_ct_df = sqlc.read.format(\"avro\").load(\"Google-Rocketeer.1117550000-1117574999.avro\")"
   ]
  },
  {
   "cell_type": "markdown",
   "metadata": {
    "pycharm": {
     "name": "#%% md\n"
    }
   },
   "source": [
    "### CT analysis"
   ]
  },
  {
   "cell_type": "code",
   "execution_count": 5,
   "metadata": {
    "collapsed": false,
    "jupyter": {
     "outputs_hidden": false
    },
    "pycharm": {
     "name": "#%%\n"
    }
   },
   "outputs": [],
   "source": [
    "# Filter the CT dataset on the known domain names\n",
    "# result = my_ct_df.join(my_known_names_df, my_ct_df.leaf_cert.subject.CN == my_known_names_df.domain, \"inner\")\n",
    "my_ct_exp_df = my_ct_df.select(\n",
    " \"cert_index\",\n",
    "  explode(\"leaf_cert.all_domains\").alias(\"domain\"),\n",
    " \"leaf_cert.all_domains\"\n",
    ")"
   ]
  },
  {
   "cell_type": "code",
   "execution_count": 6,
   "metadata": {
    "pycharm": {
     "name": "#%%\n"
    }
   },
   "outputs": [
    {
     "name": "stdout",
     "output_type": "stream",
     "text": [
      "+----------+----------------------------------------------------------+---------------------------------------------------------------------------------------------------------------+\n",
      "|cert_index|domain                                                    |all_domains                                                                                                    |\n",
      "+----------+----------------------------------------------------------+---------------------------------------------------------------------------------------------------------------+\n",
      "|1117550000|ffc0ef16e65348ff9e06181f0751a1b1.cc.arc.azure.net         |[ffc0ef16e65348ff9e06181f0751a1b1.cc.arc.azure.net, 5618abcf0e5d4d83b2f155f6de02a3e7.int.scus.cc.arc.azure.net]|\n",
      "|1117550000|5618abcf0e5d4d83b2f155f6de02a3e7.int.scus.cc.arc.azure.net|[ffc0ef16e65348ff9e06181f0751a1b1.cc.arc.azure.net, 5618abcf0e5d4d83b2f155f6de02a3e7.int.scus.cc.arc.azure.net]|\n",
      "|1117550001|73f6aee562ae4150bf1fd77019a30010.cc.arc.azure.net         |[73f6aee562ae4150bf1fd77019a30010.cc.arc.azure.net, 7e227f12262647f4b3fdda567785bcca.int.wcus.cc.arc.azure.net]|\n",
      "|1117550001|7e227f12262647f4b3fdda567785bcca.int.wcus.cc.arc.azure.net|[73f6aee562ae4150bf1fd77019a30010.cc.arc.azure.net, 7e227f12262647f4b3fdda567785bcca.int.wcus.cc.arc.azure.net]|\n",
      "|1117550002|eus2e-281461122-bxcjf7dcbmewhpa2.eus2e.grafana.azure.com  |[eus2e-281461122-bxcjf7dcbmewhpa2.eus2e.grafana.azure.com, eus2e-281461122.eus2e.backend-prod.azgrafana.io]    |\n",
      "+----------+----------------------------------------------------------+---------------------------------------------------------------------------------------------------------------+\n",
      "only showing top 5 rows\n",
      "\n",
      "+------------------------------------------+\n",
      "|domain                                    |\n",
      "+------------------------------------------+\n",
      "|rijksoverheid.nl                          |\n",
      "|abonneren.rijksoverheid.nl                |\n",
      "|acc.prikkenzonderafspraak.rijksoverheid.nl|\n",
      "|cms.rijksoverheid.nl                      |\n",
      "|coronadashboard.rijksoverheid.nl          |\n",
      "+------------------------------------------+\n",
      "only showing top 5 rows\n",
      "\n"
     ]
    }
   ],
   "source": [
    "my_ct_exp_df.show(5, truncate=False)\n",
    "my_known_names_df.show(5, truncate=False)"
   ]
  },
  {
   "cell_type": "code",
   "execution_count": 7,
   "metadata": {
    "pycharm": {
     "name": "#%%\n"
    }
   },
   "outputs": [
    {
     "name": "stdout",
     "output_type": "stream",
     "text": [
      "+----------------------------------------------------------------+----------+---------------------------------------------------------------------------------------------------------------------------------------------------------------------------------------------------------------------------------------------------------------------------------------+\n",
      "|domain                                                          |cert_index|all_domains                                                                                                                                                                                                                                                                            |\n",
      "+----------------------------------------------------------------+----------+---------------------------------------------------------------------------------------------------------------------------------------------------------------------------------------------------------------------------------------------------------------------------------------+\n",
      "|18dbf4a18e441d4e8d27b9dacdcb61348453.postgres.database.azure.com|1117550024|[18dbf4a18e441d4e8d27b9dacdcb61348453.postgres.database.azure.com, *.synt-20220503-0048-scaleout-68lh-sg.postgres.database.azure.com, *.privatelink.synt-20220503-0048-scaleout-68lh-sg.postgres.database.azure.com, synt-20220503-0048-scaleout-68lh-sg-c.postgres.database.azure.com]|\n",
      "+----------------------------------------------------------------+----------+---------------------------------------------------------------------------------------------------------------------------------------------------------------------------------------------------------------------------------------------------------------------------------------+\n",
      "\n"
     ]
    }
   ],
   "source": [
    "my_ct_exp_match_df = my_ct_exp_df.join(\n",
    " my_known_names_df,\n",
    " ['domain'],\n",
    " how=\"inner\"\n",
    ")\n",
    "\n",
    "my_ct_exp_match_df.show(5, truncate=False)"
   ]
  },
  {
   "cell_type": "code",
   "execution_count": 8,
   "metadata": {
    "pycharm": {
     "name": "#%%\n"
    }
   },
   "outputs": [
    {
     "name": "stdout",
     "output_type": "stream",
     "text": [
      "+-----------------------------------------------------------------------------+\n",
      "|domain                                                                       |\n",
      "+-----------------------------------------------------------------------------+\n",
      "|synt-20220503-0048-scaleout-68lh-sg-c.postgres.database.azure.com            |\n",
      "|*.synt-20220503-0048-scaleout-68lh-sg.postgres.database.azure.com            |\n",
      "|*.privatelink.synt-20220503-0048-scaleout-68lh-sg.postgres.database.azure.com|\n",
      "+-----------------------------------------------------------------------------+\n",
      "\n"
     ]
    }
   ],
   "source": [
    "my_final_ct_set = my_ct_exp_match_df.select(\n",
    " explode(\"all_domains\").alias(\"domain\")\n",
    ").distinct().join(\n",
    " my_known_names_df,\n",
    " [\"domain\"],\n",
    " \"left_anti\"\n",
    ")\n",
    "\n",
    "my_final_ct_set.show(truncate=False)\n",
    "\n",
    "my_final_ct_set.toPandas().to_csv(\"ct-results.csv\", index=False)"
   ]
  },
  {
   "cell_type": "code",
   "execution_count": 9,
   "metadata": {
    "pycharm": {
     "name": "#%%\n"
    }
   },
   "outputs": [
    {
     "name": "stdout",
     "output_type": "stream",
     "text": [
      "Total number of new domains in CT: 3\n",
      "Total number of wilcard domains in CT: 2\n"
     ]
    }
   ],
   "source": [
    "total_new = my_final_ct_set.count()\n",
    "total_wildcard = my_final_ct_set.filter(my_final_ct_set.domain.startswith(\"*.\")).count()\n",
    "\n",
    "print(f\"Total number of new domains in CT: {total_new}\")\n",
    "print(f\"Total number of wilcard domains in CT: {total_wildcard}\")"
   ]
  },
  {
   "cell_type": "code",
   "execution_count": null,
   "metadata": {
    "pycharm": {
     "name": "#%%\n"
    }
   },
   "outputs": [],
   "source": [
    "# End"
   ]
  }
 ],
 "metadata": {
  "kernelspec": {
   "display_name": "Python 3 (ipykernel)",
   "language": "python",
   "name": "python3"
  },
  "language_info": {
   "codemirror_mode": {
    "name": "ipython",
    "version": 3
   },
   "file_extension": ".py",
   "mimetype": "text/x-python",
   "name": "python",
   "nbconvert_exporter": "python",
   "pygments_lexer": "ipython3",
   "version": "3.9.12"
  }
 },
 "nbformat": 4,
 "nbformat_minor": 4
}